{
 "cells": [
  {
   "cell_type": "code",
   "execution_count": 1,
   "id": "894c1db7",
   "metadata": {},
   "outputs": [],
   "source": [
    "import tensorflow as tf\n",
    "import common\n",
    "import pathlib\n",
    "import matplotlib.pyplot as plt"
   ]
  },
  {
   "cell_type": "code",
   "execution_count": 2,
   "id": "179161a9",
   "metadata": {},
   "outputs": [],
   "source": [
    "class OutputLayer(tf.keras.layers.Layer):\n",
    "    def __init__(self):\n",
    "        super().__init__()\n",
    "        self.dense1 = tf.keras.layers.Dense(256,activation=common.mish)\n",
    "        self.dense2 = tf.keras.layers.Dense(32,activation=common.mish)\n",
    "        self.dense3 = tf.keras.layers.Dense(4)\n",
    "    def call(self,fm,training):\n",
    "        x = tf.squeeze(fm,axis=[1,2])\n",
    "        x = self.dense1(x)\n",
    "        x = self.dense2(x)\n",
    "        x = self.dense3(x)\n",
    "        return x"
   ]
  },
  {
   "cell_type": "code",
   "execution_count": 3,
   "id": "2c26bf47",
   "metadata": {},
   "outputs": [],
   "source": [
    "class DwSubBlock(tf.keras.layers.Layer):\n",
    "    def __init__(self,r=-1):\n",
    "        super().__init__()\n",
    "        self.depthwise_vf_outer = common.DepthwiseVisionField()\n",
    "        self.decrease = common.DepthControl(r=r,a='mish')\n",
    "        self.depthwise_vf_inner = common.DepthwiseVisionField()\n",
    "        self.increase = common.DepthControl(r=-r,a='mish')\n",
    "    def call(self,inp,training):\n",
    "        x = self.depthwise_vf_outer(inp,training=training)\n",
    "        x = self.decrease(x,training=training)\n",
    "        x = self.depthwise_vf_inner(x,training=training)\n",
    "        x = self.increase(x,training=training)\n",
    "        return x\n",
    "    \n",
    "class SequentialDwSubBlock(tf.keras.layers.Layer):\n",
    "    def __init__(self,repeat,r=-1):\n",
    "        super().__init__()\n",
    "        self.subblocks = [DwSubBlock(r=r) for _ in range(repeat)]\n",
    "    def call(self,inp,training):\n",
    "        x = inp\n",
    "        for sb in self.subblocks:\n",
    "            x = sb(x,training=training)\n",
    "        return x"
   ]
  },
  {
   "cell_type": "code",
   "execution_count": 4,
   "id": "5be798fd",
   "metadata": {},
   "outputs": [],
   "source": [
    "class Model(tf.keras.Model):\n",
    "    def  __init__(self,levels=5,neck=2):\n",
    "        super().__init__()\n",
    "        self.dowmsamples = [common.DownSample(1),common.DownSample(2)]\n",
    "        self.DwSubBlocks = [SequentialDwSubBlock(2),SequentialDwSubBlock(4),SequentialDwSubBlock(4)]\n",
    "        self.ResBlockContracts = [common.ResBlockContract(2),common.ResBlockContract(4)]\n",
    "        self.mixes = [common.DepthControl(r=-1,a='mish'),common.DepthControl(r=-1,a='mish')]\n",
    "        self.Net = [\n",
    "            common.ResBlockContract(repeat=4,r=-1),\n",
    "            common.ResBlockContract(repeat=4,r=-1),\n",
    "            common.ResBlockContract(repeat=6,r=-2),\n",
    "            common.ResBlockContract(repeat=6,r=-2),\n",
    "            common.ResBlockContract(repeat=2,r=-2),\n",
    "        ]\n",
    "        self.OutputLayer = OutputLayer()\n",
    "        \n",
    "    def call(self,image,training):\n",
    "        fms = []\n",
    "        \n",
    "        fm = tf.tile(image,[1,1,1,16])\n",
    "        fm = self.DwSubBlocks[0](fm,training=training)\n",
    "        fms.append(fm)\n",
    "        \n",
    "        fm = self.dowmsamples[0](image,training=training)\n",
    "        fm = tf.tile(fm,[1,1,1,32])\n",
    "        fm = self.DwSubBlocks[1](fm,training=training)\n",
    "        fms.append(fm)\n",
    "        \n",
    "        fm = self.dowmsamples[1](image,training=training)\n",
    "        fm = tf.tile(fm,[1,1,1,64])\n",
    "        fm = self.DwSubBlocks[2](fm,training=training)\n",
    "        fms.append(fm)\n",
    "        \n",
    "        fm = self.ResBlockContracts[0](fms[0],training=training)\n",
    "        fm = tf.concat([fm,fms[1]],axis=-1)\n",
    "        fm = self.mixes[0](fm,training=training)\n",
    "        \n",
    "        fm = self.ResBlockContracts[1](fm,training=training)\n",
    "        fm = tf.concat([fm,fms[2]],axis=-1)\n",
    "        fm = self.mixes[1](fm,training=training)\n",
    "        \n",
    "        for N in self.Net:\n",
    "            fm = N(fm,training=training)\n",
    "        output = self.OutputLayer(fm,training=training)\n",
    "        \n",
    "        return output\n",
    "        \n",
    "    def predict(self,image):\n",
    "        image = tf.image.resize(image,[128,128])\n",
    "        if tf.rank(image) == 3:\n",
    "            image = image[None,:,:,:]\n",
    "        raw_xywh = self(image)\n",
    "        xywh = tf.keras.activations.sigmoid(raw_xywh)\n",
    "        return xywh"
   ]
  },
  {
   "cell_type": "code",
   "execution_count": 5,
   "id": "8705d4f9",
   "metadata": {},
   "outputs": [],
   "source": [
    "model = Model()"
   ]
  },
  {
   "cell_type": "code",
   "execution_count": 6,
   "id": "9a6bffba",
   "metadata": {},
   "outputs": [
    {
     "data": {
      "text/plain": [
       "<tensorflow.python.training.tracking.util.CheckpointLoadStatus at 0x19d5f341df0>"
      ]
     },
     "execution_count": 6,
     "metadata": {},
     "output_type": "execute_result"
    }
   ],
   "source": [
    "model.load_weights(r'D:\\Competitions\\ComputerVision\\OCR\\ChinaSteel\\code\\Segment\\final_weights\\model_1\\weights')"
   ]
  },
  {
   "cell_type": "code",
   "execution_count": 7,
   "id": "c8b641e6",
   "metadata": {},
   "outputs": [],
   "source": [
    "import utils"
   ]
  },
  {
   "cell_type": "code",
   "execution_count": 8,
   "id": "bfb001d3",
   "metadata": {},
   "outputs": [],
   "source": [
    "record = utils.segment(model=model,\n",
    "                       input_path=r'D:\\Competitions\\ComputerVision\\OCR\\ChinaSteel\\dataset\\train\\official\\train',\n",
    "                       output_path=r'D:\\Competitions\\ComputerVision\\OCR\\ChinaSteel\\dataset\\train\\segment',\n",
    "                       batch_size=8,\n",
    "                       tolerance=1.2,\n",
    "                       record_name='train',\n",
    "                       save_compare=True)"
   ]
  },
  {
   "cell_type": "code",
   "execution_count": null,
   "id": "b397940e",
   "metadata": {},
   "outputs": [],
   "source": [
    "record = utils.segment(model=model,\n",
    "                       input_path=r'D:\\Competitions\\ComputerVision\\OCR\\ChinaSteel\\dataset\\train\\official\\validation',\n",
    "                       output_path=r'D:\\Competitions\\ComputerVision\\OCR\\ChinaSteel\\dataset\\train\\segment',\n",
    "                       batch_size=8,\n",
    "                       tolerance=1.2,\n",
    "                       record_name='validation',\n",
    "                       save_compare=True)"
   ]
  },
  {
   "cell_type": "code",
   "execution_count": 8,
   "id": "199ca2c2",
   "metadata": {},
   "outputs": [],
   "source": [
    "record = utils.segment(model=model,\n",
    "                       input_path=r'D:\\Competitions\\ComputerVision\\OCR\\ChinaSteel\\dataset\\test\\official\\image',\n",
    "                       output_path=r'D:\\Competitions\\ComputerVision\\OCR\\ChinaSteel\\dataset\\test\\segment',\n",
    "                       batch_size=8,\n",
    "                       tolerance=1.2,\n",
    "                       record_name='record',\n",
    "                       save_compare=True)"
   ]
  },
  {
   "cell_type": "code",
   "execution_count": null,
   "id": "27313e0a",
   "metadata": {},
   "outputs": [],
   "source": [
    "record = utils.segment(model=model,\n",
    "                       input_path=r'D:\\Competitions\\ComputerVision\\OCR\\ChinaSteel\\dataset\\predict\\official',\n",
    "                       output_path=r'D:\\Competitions\\ComputerVision\\OCR\\ChinaSteel\\dataset\\predict\\segment',\n",
    "                       batch_size=8,\n",
    "                       tolerance=1.2,\n",
    "                       record_name='record',\n",
    "                       save_compare=True)"
   ]
  }
 ],
 "metadata": {
  "kernelspec": {
   "display_name": "Python 3",
   "language": "python",
   "name": "python3"
  },
  "language_info": {
   "codemirror_mode": {
    "name": "ipython",
    "version": 3
   },
   "file_extension": ".py",
   "mimetype": "text/x-python",
   "name": "python",
   "nbconvert_exporter": "python",
   "pygments_lexer": "ipython3",
   "version": "3.8.3"
  },
  "toc": {
   "base_numbering": 1,
   "nav_menu": {},
   "number_sections": true,
   "sideBar": true,
   "skip_h1_title": false,
   "title_cell": "Table of Contents",
   "title_sidebar": "Contents",
   "toc_cell": false,
   "toc_position": {
    "height": "calc(100% - 180px)",
    "left": "10px",
    "top": "150px",
    "width": "384px"
   },
   "toc_section_display": true,
   "toc_window_display": false
  },
  "varInspector": {
   "cols": {
    "lenName": 16,
    "lenType": 16,
    "lenVar": 40
   },
   "kernels_config": {
    "python": {
     "delete_cmd_postfix": "",
     "delete_cmd_prefix": "del ",
     "library": "var_list.py",
     "varRefreshCmd": "print(var_dic_list())"
    },
    "r": {
     "delete_cmd_postfix": ") ",
     "delete_cmd_prefix": "rm(",
     "library": "var_list.r",
     "varRefreshCmd": "cat(var_dic_list()) "
    }
   },
   "types_to_exclude": [
    "module",
    "function",
    "builtin_function_or_method",
    "instance",
    "_Feature"
   ],
   "window_display": false
  }
 },
 "nbformat": 4,
 "nbformat_minor": 5
}
