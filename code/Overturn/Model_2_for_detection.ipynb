{
 "cells": [
  {
   "cell_type": "code",
   "execution_count": 1,
   "id": "6137cce6",
   "metadata": {},
   "outputs": [],
   "source": [
    "import tensorflow as tf"
   ]
  },
  {
   "cell_type": "code",
   "execution_count": 2,
   "id": "2dce1063",
   "metadata": {},
   "outputs": [],
   "source": [
    "def mish(x):\n",
    "    return x * tf.math.tanh(tf.math.softplus(x))"
   ]
  },
  {
   "cell_type": "code",
   "execution_count": 3,
   "id": "1e591b3d",
   "metadata": {},
   "outputs": [],
   "source": [
    "class Conv2D(tf.keras.layers.Conv2D):\n",
    "    def __init__(self,f,k,a,b,**kwdarg):\n",
    "        super().__init__(\n",
    "            filters=f,\n",
    "            kernel_size=k,\n",
    "            activation=a,\n",
    "            use_bias=b,\n",
    "            strides=1,\n",
    "            padding='valid',\n",
    "            **kwdarg)\n",
    "    def call(self,inp,training):\n",
    "        x = super().call(inp)\n",
    "        return x"
   ]
  },
  {
   "cell_type": "code",
   "execution_count": 4,
   "id": "dfc2f9d0",
   "metadata": {},
   "outputs": [],
   "source": [
    "class DepthwiseConv2D(tf.keras.layers.DepthwiseConv2D):\n",
    "    def __init__(self,m,k,a,b,**kwdarg):\n",
    "        super().__init__(\n",
    "            depth_multiplier=m,\n",
    "            kernel_size=k,\n",
    "            activation=a,\n",
    "            use_bias=b,\n",
    "            strides=1,\n",
    "            padding='valid',\n",
    "            **kwdarg)\n",
    "    def call(self,inp,training):\n",
    "        x = super().call(inp)\n",
    "        return x"
   ]
  },
  {
   "cell_type": "code",
   "execution_count": 5,
   "id": "2a9dbd71",
   "metadata": {},
   "outputs": [],
   "source": [
    "class DepthControl(tf.keras.layers.Layer):\n",
    "    def __init__(self,r,a,b):\n",
    "        super().__init__()\n",
    "        self.r = 2**r\n",
    "        self.a = a\n",
    "        self.b = b\n",
    "    def build(self,input_shape):\n",
    "        self.conv = Conv2D(\n",
    "            f=int(input_shape[-1]*self.r),\n",
    "            k=1,\n",
    "            a=self.a,\n",
    "            b=self.b)\n",
    "    def call(self,inp,training):\n",
    "        x = self.conv(inp,training=training)\n",
    "        return x"
   ]
  },
  {
   "cell_type": "code",
   "execution_count": 6,
   "id": "51f3dff6",
   "metadata": {},
   "outputs": [],
   "source": [
    "class DownSample(tf.keras.layers.Layer):\n",
    "    def __init__(self,k=(2,2)):\n",
    "        super().__init__()\n",
    "        self.k = k\n",
    "    def build(self,input_shape):\n",
    "        self.output_size = (input_shape[1]//self.k[0],input_shape[2]//self.k[1])\n",
    "    def call(self,inp,training):\n",
    "        return tf.image.resize(inp, self.output_size)"
   ]
  },
  {
   "cell_type": "code",
   "execution_count": 7,
   "id": "3ecf1eb8",
   "metadata": {},
   "outputs": [],
   "source": [
    "class Contract(tf.keras.layers.Layer):\n",
    "    def __init__(self,k):\n",
    "        super().__init__()\n",
    "        self.downsample = DownSample(k)\n",
    "        self.increase = DepthControl(r=1,a=None,b=False)\n",
    "    def call(self,inp,training):\n",
    "        x = self.downsample(inp,training=training)\n",
    "        x = self.increase(x,training=training)\n",
    "        return x"
   ]
  },
  {
   "cell_type": "code",
   "execution_count": 8,
   "id": "ff49a2db",
   "metadata": {},
   "outputs": [],
   "source": [
    "class Model(tf.keras.Model):\n",
    "    def __init__(self):\n",
    "        super().__init__()\n",
    "        self.block1 = tf.keras.Sequential([\n",
    "            DepthwiseConv2D(m=32,k=3,a=None,b=False),\n",
    "            Conv2D(f=32,k=3,a=mish,b=True),\n",
    "            Contract((1,2))\n",
    "        ])\n",
    "        self.block2 = tf.keras.Sequential([\n",
    "            Conv2D(f=64,k=3,a=mish,b=True),\n",
    "            Contract((1,2))\n",
    "        ])\n",
    "        self.block3 = tf.keras.Sequential([\n",
    "            Conv2D(f=128,k=3,a=mish,b=True),\n",
    "            Contract((1,2))\n",
    "        ])\n",
    "        self.block4 = tf.keras.Sequential([\n",
    "            Conv2D(f=256,k=3,a=mish,b=True),\n",
    "            Contract((2,2))\n",
    "        ])\n",
    "        self.block5 = tf.keras.Sequential([\n",
    "            Conv2D(f=512,k=2,a=mish,b=True),\n",
    "            Contract((1,2))\n",
    "        ])\n",
    "        self.block6 = tf.keras.Sequential([\n",
    "            Conv2D(f=512,k=3,a=mish,b=True),\n",
    "            Conv2D(f=512,k=3,a=mish,b=True),\n",
    "            Conv2D(f=512,k=2,a=mish,b=True)\n",
    "        ])\n",
    "        self.output_layer = tf.keras.Sequential([\n",
    "            tf.keras.layers.Flatten(),\n",
    "            tf.keras.layers.Dense(1024,activation=mish,use_bias=True),\n",
    "            tf.keras.layers.Dense(512,activation=mish,use_bias=True),\n",
    "            tf.keras.layers.Dense(256,activation=mish,use_bias=True),\n",
    "            tf.keras.layers.Dense(128,activation=mish,use_bias=True),\n",
    "            tf.keras.layers.Dense(64,activation=mish,use_bias=True),\n",
    "            tf.keras.layers.Dense(32,activation=mish,use_bias=True),\n",
    "            tf.keras.layers.Dense(16,activation=mish,use_bias=True),\n",
    "            tf.keras.layers.Dense(4,activation=mish,use_bias=True),\n",
    "            tf.keras.layers.Dense(1,activation='sigmoid',use_bias=False),\n",
    "        ])\n",
    "        \n",
    "    def call(self,image,training):\n",
    "        x = self.block1(image,training=training)\n",
    "        x = self.block2(x,training=training)\n",
    "        x = self.block3(x,training=training)\n",
    "        x = self.block4(x,training=training)\n",
    "        x = self.block5(x,training=training)\n",
    "        x = self.block6(x,training=training)\n",
    "        x = self.output_layer(x,training=training)\n",
    "        return x\n",
    "    \n",
    "    def predict(self,image):\n",
    "        predict = self(image,training=False)\n",
    "        predict = tf.squeeze(predict,axis=-1)\n",
    "        predict = predict.numpy()\n",
    "        predict = predict > 0.5\n",
    "        return predict"
   ]
  },
  {
   "cell_type": "code",
   "execution_count": 9,
   "id": "e4392d65",
   "metadata": {},
   "outputs": [],
   "source": [
    "model = Model()"
   ]
  },
  {
   "cell_type": "code",
   "execution_count": 10,
   "id": "e8af953b",
   "metadata": {},
   "outputs": [
    {
     "data": {
      "text/plain": [
       "<tensorflow.python.training.tracking.util.CheckpointLoadStatus at 0x247013fcaf0>"
      ]
     },
     "execution_count": 10,
     "metadata": {},
     "output_type": "execute_result"
    }
   ],
   "source": [
    "model.load_weights(r'C:\\Users\\user\\Dropbox\\DL_Competitions\\ChinaSteel\\overturn_detect_Models\\weights\\model_2\\0032_0p02888\\weights')"
   ]
  },
  {
   "cell_type": "code",
   "execution_count": 10,
   "id": "a2fe5a94",
   "metadata": {},
   "outputs": [
    {
     "data": {
      "text/plain": [
       "<tensorflow.python.training.tracking.util.CheckpointLoadStatus at 0x207f4a335e0>"
      ]
     },
     "execution_count": 10,
     "metadata": {},
     "output_type": "execute_result"
    }
   ],
   "source": [
    "# model.load_weights(r'C:\\Users\\Atlas\\Dropbox\\DL_Competitions\\ChinaSteel\\overturn_detect_Models\\weights\\model_2\\0032_0p02888\\weights')"
   ]
  },
  {
   "cell_type": "code",
   "execution_count": 11,
   "id": "fc0dfdd2",
   "metadata": {},
   "outputs": [],
   "source": [
    "import FLAGS\n",
    "\n",
    "FLAGS.MODEL = model\n",
    "FLAGS.IMAGE_SHAPE = (40,240)\n",
    "\n",
    "# FLAGS.TRAIN.RECORD_WEIGHTS_PATH = r'D:\\DL_competition_Dataset\\ChinaSteel\\overtrun_detect_model_weights\\model_2\\trial_1'\n",
    "# FLAGS.TRAIN.LABEL_SMOOTHING = 0\n",
    "# FLAGS.TRAIN.OPTIMIZER.TYPE = tf.keras.optimizers.Adam\n",
    "# FLAGS.TRAIN.OPTIMIZER.MAX_LR = 0.5 * 1e-3\n",
    "# FLAGS.TRAIN.EPOCH.TOTAL = 100\n",
    "# FLAGS.TRAIN.EPOCH.WARMUP = 5\n",
    "\n",
    "# FLAGS.DATA.TRAIN.PATH = r'D:\\DL_competition_Dataset\\ChinaSteel\\dataset\\custom\\overturn_sep'\n",
    "# FLAGS.DATA.TRAIN.TRAIN_BATCH_SIZE = 32\n",
    "# FLAGS.DATA.TRAIN.VALIDATION_RATIO = 0.05\n",
    "# FLAGS.DATA.TRAIN.VALIDATION_BATCH_SIZE = 32\n",
    "# FLAGS.DATA.TEST.IMAGE_PATH = r'D:\\DL_competition_Dataset\\ChinaSteel\\dataset\\custom\\segment\\test'\n",
    "FLAGS.DATA.TEST.IMAGE_PATH = r'D:\\DL_competition_Dataset\\ChinaSteel\\dataset\\private\\segment\\images'\n",
    "FLAGS.DATA.TEST.BATCH_SIZE = 64"
   ]
  },
  {
   "cell_type": "code",
   "execution_count": 12,
   "id": "4758a9a0",
   "metadata": {},
   "outputs": [],
   "source": [
    "# FLAGS.DATA.TEST.IMAGE_PATH = r'C:\\Users\\Atlas\\Desktop\\ChinaSteel_dataset\\custom\\train_segment'\n",
    "# FLAGS.DATA.TEST.BATCH_SIZE = 64"
   ]
  },
  {
   "cell_type": "code",
   "execution_count": 12,
   "id": "cad240c0",
   "metadata": {},
   "outputs": [],
   "source": [
    "import utils"
   ]
  },
  {
   "cell_type": "code",
   "execution_count": 13,
   "id": "2eef5236",
   "metadata": {},
   "outputs": [],
   "source": [
    "# utils.overturn_image(model,r'D:\\DL_competition_Dataset\\ChinaSteel\\dataset\\custom\\segment\\rotated_test')"
   ]
  },
  {
   "cell_type": "code",
   "execution_count": 13,
   "id": "dd082df7",
   "metadata": {},
   "outputs": [],
   "source": [
    "# utils.overturn_image(model,r'C:\\Users\\Atlas\\Desktop\\ChinaSteel_dataset\\custom\\train_rotated')\n",
    "utils.overturn_image(model,r'D:\\DL_competition_Dataset\\ChinaSteel\\dataset\\private\\rotated')"
   ]
  }
 ],
 "metadata": {
  "kernelspec": {
   "display_name": "Python 3",
   "language": "python",
   "name": "python3"
  },
  "language_info": {
   "codemirror_mode": {
    "name": "ipython",
    "version": 3
   },
   "file_extension": ".py",
   "mimetype": "text/x-python",
   "name": "python",
   "nbconvert_exporter": "python",
   "pygments_lexer": "ipython3",
   "version": "3.8.3"
  },
  "toc": {
   "base_numbering": 1,
   "nav_menu": {},
   "number_sections": true,
   "sideBar": true,
   "skip_h1_title": false,
   "title_cell": "Table of Contents",
   "title_sidebar": "Contents",
   "toc_cell": false,
   "toc_position": {},
   "toc_section_display": true,
   "toc_window_display": false
  },
  "varInspector": {
   "cols": {
    "lenName": 16,
    "lenType": 16,
    "lenVar": 40
   },
   "kernels_config": {
    "python": {
     "delete_cmd_postfix": "",
     "delete_cmd_prefix": "del ",
     "library": "var_list.py",
     "varRefreshCmd": "print(var_dic_list())"
    },
    "r": {
     "delete_cmd_postfix": ") ",
     "delete_cmd_prefix": "rm(",
     "library": "var_list.r",
     "varRefreshCmd": "cat(var_dic_list()) "
    }
   },
   "types_to_exclude": [
    "module",
    "function",
    "builtin_function_or_method",
    "instance",
    "_Feature"
   ],
   "window_display": false
  }
 },
 "nbformat": 4,
 "nbformat_minor": 5
}
