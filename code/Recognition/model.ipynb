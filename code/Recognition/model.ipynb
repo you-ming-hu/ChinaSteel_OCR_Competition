{
 "cells": [
  {
   "cell_type": "code",
   "execution_count": 1,
   "id": "b8db1cce",
   "metadata": {},
   "outputs": [],
   "source": [
    "import tensorflow as tf\n",
    "import utils"
   ]
  },
  {
   "cell_type": "code",
   "execution_count": 2,
   "id": "fdd71171",
   "metadata": {},
   "outputs": [],
   "source": [
    "def mish(x):\n",
    "    return x * tf.math.tanh(tf.math.softplus(x))"
   ]
  },
  {
   "cell_type": "code",
   "execution_count": 3,
   "id": "427863d0",
   "metadata": {},
   "outputs": [],
   "source": [
    "class Conv2D(tf.keras.layers.Conv2D):\n",
    "    def __init__(self,f,k,a,b,**kwdarg):\n",
    "        super().__init__(\n",
    "            filters=f,\n",
    "            kernel_size=k,\n",
    "            activation=a,\n",
    "            use_bias=b,\n",
    "            strides=1,\n",
    "            padding='valid',\n",
    "            **kwdarg)\n",
    "    def call(self,inp,training):\n",
    "        x = super().call(inp)\n",
    "        return x"
   ]
  },
  {
   "cell_type": "code",
   "execution_count": 4,
   "id": "93a163a4",
   "metadata": {},
   "outputs": [],
   "source": [
    "class DepthwiseConv2D(tf.keras.layers.DepthwiseConv2D):\n",
    "    def __init__(self,m,k,a,b,**kwdarg):\n",
    "        super().__init__(\n",
    "            depth_multiplier=m,\n",
    "            kernel_size=k,\n",
    "            activation=a,\n",
    "            use_bias=b,\n",
    "            strides=1,\n",
    "            padding='valid',\n",
    "            **kwdarg)\n",
    "    def call(self,inp,training):\n",
    "        x = super().call(inp)\n",
    "        return x"
   ]
  },
  {
   "cell_type": "code",
   "execution_count": 5,
   "id": "8c942895",
   "metadata": {},
   "outputs": [],
   "source": [
    "class DepthControl(tf.keras.layers.Layer):\n",
    "    def __init__(self,r,a,b,groups=1):\n",
    "        super().__init__()\n",
    "        self.r = 2**r\n",
    "        self.a = a\n",
    "        self.b = b\n",
    "        self.groups = groups\n",
    "    def build(self,input_shape):\n",
    "        self.conv = Conv2D(\n",
    "            f=int(input_shape[-1]*self.r),\n",
    "            k=1,\n",
    "            a=self.a,\n",
    "            b=self.b,\n",
    "            groups=self.groups\n",
    "        )\n",
    "    def call(self,inp,training):\n",
    "        x = self.conv(inp,training=training)\n",
    "        return x"
   ]
  },
  {
   "cell_type": "code",
   "execution_count": 6,
   "id": "3dbafd27",
   "metadata": {},
   "outputs": [],
   "source": [
    "class SubBlock(tf.keras.layers.Layer):\n",
    "    def __init__(self,vision_layer,nins):\n",
    "        super().__init__()\n",
    "        self.vision_layer = vision_layer\n",
    "        self.main = tf.keras.Sequential([DepthControl(r=r,a=mish,b=True) for r in nins]+\n",
    "                                        [DepthControl(r=-r,a=mish,b=True) for r in nins[::-1]])\n",
    "        self.mix = DepthControl(r=-1,a=mish,b=False)\n",
    "    def call(self,inp,training):\n",
    "        x1 = self.vision_layer(inp,training=training)\n",
    "        x2 = self.main(x1,training=training)\n",
    "        x = tf.concat([x1,x2],axis=-1)\n",
    "        x = self.mix(x,training=training)\n",
    "        return x"
   ]
  },
  {
   "cell_type": "code",
   "execution_count": 7,
   "id": "45929981",
   "metadata": {},
   "outputs": [],
   "source": [
    "class GroupSubBlock(tf.keras.layers.Layer):\n",
    "    def __init__(self,vision_layer,groups,nins):\n",
    "        super().__init__()\n",
    "        self.vision_layer = vision_layer\n",
    "        self.main = tf.keras.Sequential([DepthControl(r=r,a=mish,b=True,groups=groups) for r in nins]+\n",
    "                                        [DepthControl(r=-r,a=mish,b=True,groups=groups) for r in nins[::-1]])\n",
    "    def call(self,inp,training):\n",
    "        x1 = self.vision_layer(inp,training=training)\n",
    "        x2 = self.main(x1,training=training)\n",
    "        x = x1 + x2\n",
    "        return x"
   ]
  },
  {
   "cell_type": "code",
   "execution_count": 8,
   "id": "9ee0f169",
   "metadata": {},
   "outputs": [],
   "source": [
    "class Contract(tf.keras.layers.Layer):\n",
    "    def __init__(self):\n",
    "        super().__init__()\n",
    "        self.downsample = tf.keras.layers.AveragePooling2D(pool_size=2, strides=2, padding='valid')\n",
    "        self.increase = DepthControl(r=1,a=None,b=False)\n",
    "    def call(self,inp,training):\n",
    "        x = self.downsample(inp,training=training)\n",
    "        x = self.increase(x,training=training)\n",
    "        return x"
   ]
  },
  {
   "cell_type": "code",
   "execution_count": 9,
   "id": "06a897ec",
   "metadata": {},
   "outputs": [],
   "source": [
    "class Model(tf.keras.Model):\n",
    "    def __init__(self):\n",
    "        super().__init__()\n",
    "        self.block1 = tf.keras.Sequential([\n",
    "            SubBlock(DepthwiseConv2D(m=8,k=3,a=None,b=False),[1,1]),\n",
    "            SubBlock(Conv2D(f=8,k=3,a=mish,b=True),[1,1]),\n",
    "            Contract()])\n",
    "        self.block2 = tf.keras.Sequential([\n",
    "            SubBlock(Conv2D(f=16,k=3,a=mish,b=True),[1,0,0]),\n",
    "            Contract()])\n",
    "        self.block3 = tf.keras.Sequential([\n",
    "            SubBlock(Conv2D(f=32,k=3,a=mish,b=True),[1,0,0]),\n",
    "            SubBlock(Conv2D(f=32,k=3,a=mish,b=True),[1,0,0]),\n",
    "            Contract()])\n",
    "        self.block4 = tf.keras.Sequential([\n",
    "            SubBlock(Conv2D(f=64,k=2,a=mish,b=True),[-1,0,0]),\n",
    "            tf.keras.layers.Lambda(lambda x: tf.tile(x,[1,1,1,12]))\n",
    "        ])\n",
    "        self.block5 = tf.keras.Sequential([\n",
    "            GroupSubBlock(Conv2D(f=1032,k=(1,2),a=mish,b=True,groups=12),12,[0,0]), #25\n",
    "            GroupSubBlock(Conv2D(f=1032,k=(1,2),a=mish,b=True,groups=12),12,[0,0]), #24\n",
    "            GroupSubBlock(Conv2D(f=1032,k=(1,2),a=mish,b=True,groups=12),12,[0,0]), #23\n",
    "            tf.keras.layers.AveragePooling2D(pool_size=(1,3), strides=(1,2), padding='valid'), #11\n",
    "            GroupSubBlock(Conv2D(f=2064,k=(1,2),a=mish,b=True,groups=12),12,[0,0]), #10\n",
    "            GroupSubBlock(Conv2D(f=2064,k=(1,2),a=mish,b=True,groups=12),12,[0,0]), #9\n",
    "            tf.keras.layers.AveragePooling2D(pool_size=(1,3), strides=(1,2), padding='valid'), #4\n",
    "            GroupSubBlock(Conv2D(f=4128,k=(1,2),a=mish,b=True,groups=12),12,[0,0]), #3\n",
    "            GroupSubBlock(Conv2D(f=4128,k=(1,2),a=mish,b=True,groups=12),12,[0,0]), #2\n",
    "            GroupSubBlock(Conv2D(f=4128,k=(1,2),a=mish,b=True,groups=12),12,[0,0]), #1\n",
    "            \n",
    "            tf.keras.layers.Lambda(lambda x: tf.squeeze(x,axis=[1,2])),\n",
    "            tf.keras.layers.Reshape([1,12,-1])\n",
    "        ])\n",
    "        self.output_layer = tf.keras.Sequential([\n",
    "            Conv2D(f=1024,k=1,a=mish,b=True),\n",
    "            Conv2D(f=512,k=1,a=mish,b=True),\n",
    "            Conv2D(f=256,k=1,a=mish,b=True),\n",
    "            Conv2D(f=128,k=1,a=mish,b=True),\n",
    "            Conv2D(f=64,k=1,a=mish,b=True),\n",
    "            Conv2D(f=36,k=1,a=None,b=False),\n",
    "            tf.keras.layers.Lambda(lambda x: tf.squeeze(x,axis=1))\n",
    "        ])\n",
    "        \n",
    "    def call(self,image,training):\n",
    "        x = self.block1(image,training=training)\n",
    "        x = self.block2(x,training=training)\n",
    "        x = self.block3(x,training=training)\n",
    "        x = self.block4(x,training=training)\n",
    "        x = self.block5(x,training=training)\n",
    "        x = self.output_layer(x,training=training)\n",
    "        return x\n",
    "    \n",
    "    def predict(self,image):\n",
    "        raw_predict = self(image,training=False)\n",
    "        predict = tf.argmax(raw_predict,axis=-1)\n",
    "        predict = predict.numpy()\n",
    "        predict = [utils.token2char(p) for p in predict]\n",
    "        return predict"
   ]
  },
  {
   "cell_type": "code",
   "execution_count": 10,
   "id": "c97c18c5",
   "metadata": {},
   "outputs": [],
   "source": [
    "model = Model()"
   ]
  },
  {
   "cell_type": "code",
   "execution_count": 11,
   "id": "42453575",
   "metadata": {},
   "outputs": [
    {
     "data": {
      "text/plain": [
       "<tensorflow.python.training.tracking.util.CheckpointLoadStatus at 0x18a1eb0bf70>"
      ]
     },
     "execution_count": 11,
     "metadata": {},
     "output_type": "execute_result"
    }
   ],
   "source": [
    "model.load_weights(r'D:\\Competitions\\ComputerVision\\OCR\\ChinaSteel\\code\\Recognition\\final_weights\\model_1\\weights')"
   ]
  },
  {
   "cell_type": "code",
   "execution_count": 12,
   "id": "507e7080",
   "metadata": {},
   "outputs": [],
   "source": [
    "import FLAGS\n",
    "\n",
    "FLAGS.DATA.TRAIN.TABLE_PATH = r'D:\\Competitions\\ComputerVision\\OCR\\ChinaSteel\\dataset\\train\\overturn\\cleaned_merge_table.csv'\n",
    "FLAGS.DATA.TRAIN.VALIDATION_SPLIT_RATIO = 0.05\n",
    "FLAGS.DATA.TRAIN.VALIDATION_SPLIT_RANDOM_STATE = 100\n",
    "FLAGS.DATA.TRAIN.IMAGE_PATH = r'D:\\Competitions\\ComputerVision\\OCR\\ChinaSteel\\dataset\\train\\overturn\\image'\n",
    "FLAGS.DATA.TRAIN.TRAIN_BATCH_SIZE = 4\n",
    "FLAGS.DATA.TRAIN.VAL_BATCH_SIZE = 8\n",
    "FLAGS.DATA.TEST.IMAGE_PATH = r'D:\\Competitions\\ComputerVision\\OCR\\ChinaSteel\\dataset\\test\\overturn\\sample'\n",
    "FLAGS.DATA.TEST.BATCH_SIZE = 8\n",
    "\n",
    "FLAGS.MODEL = model\n",
    "\n",
    "FLAGS.LOSS.LABEL_SMOOTHING = 0.001\n",
    "\n",
    "FLAGS.OPTIMIZER.TYPE = tf.keras.optimizers.Adam\n",
    "FLAGS.OPTIMIZER.MAX_LEARNING_RATE = 1e-8\n",
    "FLAGS.OPTIMIZER.SCHEDULE_GAMMA = -2\n",
    "\n",
    "FLAGS.EPOCHS.TOTAL = 300\n",
    "FLAGS.EPOCHS.WARMUP = 2\n",
    "\n",
    "FLAGS.LOGGING.PATH = 'logs'\n",
    "FLAGS.LOGGING.MODEL_NAME = 1\n",
    "FLAGS.LOGGING.TRIAL_NUMBER = 13\n",
    "FLAGS.LOGGING.NOTE = 'Finetune final weights'\n",
    "FLAGS.LOGGING.SAMPLES_PER_LOG = 128\n",
    "FLAGS.LOGGING.TEST_IMAGE_COLUMNS = 5"
   ]
  },
  {
   "cell_type": "code",
   "execution_count": null,
   "id": "15f27315",
   "metadata": {},
   "outputs": [],
   "source": [
    "%run train.py"
   ]
  }
 ],
 "metadata": {
  "kernelspec": {
   "display_name": "Python 3",
   "language": "python",
   "name": "python3"
  },
  "language_info": {
   "codemirror_mode": {
    "name": "ipython",
    "version": 3
   },
   "file_extension": ".py",
   "mimetype": "text/x-python",
   "name": "python",
   "nbconvert_exporter": "python",
   "pygments_lexer": "ipython3",
   "version": "3.8.3"
  },
  "toc": {
   "base_numbering": 1,
   "nav_menu": {},
   "number_sections": true,
   "sideBar": true,
   "skip_h1_title": false,
   "title_cell": "Table of Contents",
   "title_sidebar": "Contents",
   "toc_cell": false,
   "toc_position": {},
   "toc_section_display": true,
   "toc_window_display": false
  },
  "varInspector": {
   "cols": {
    "lenName": 16,
    "lenType": 16,
    "lenVar": 40
   },
   "kernels_config": {
    "python": {
     "delete_cmd_postfix": "",
     "delete_cmd_prefix": "del ",
     "library": "var_list.py",
     "varRefreshCmd": "print(var_dic_list())"
    },
    "r": {
     "delete_cmd_postfix": ") ",
     "delete_cmd_prefix": "rm(",
     "library": "var_list.r",
     "varRefreshCmd": "cat(var_dic_list()) "
    }
   },
   "types_to_exclude": [
    "module",
    "function",
    "builtin_function_or_method",
    "instance",
    "_Feature"
   ],
   "window_display": false
  }
 },
 "nbformat": 4,
 "nbformat_minor": 5
}
