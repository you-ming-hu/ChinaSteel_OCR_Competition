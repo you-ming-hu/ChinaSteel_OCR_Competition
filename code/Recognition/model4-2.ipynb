{
 "cells": [
  {
   "cell_type": "markdown",
   "id": "98d9bf5a",
   "metadata": {},
   "source": [
    "model4有加入attention不過沒有用，所以這個模型修改attention部分\n",
    "加入positional encoding的概念"
   ]
  },
  {
   "cell_type": "code",
   "execution_count": 1,
   "id": "b8db1cce",
   "metadata": {},
   "outputs": [],
   "source": [
    "import tensorflow as tf\n",
    "import numpy as np\n",
    "import utils"
   ]
  },
  {
   "cell_type": "code",
   "execution_count": 2,
   "id": "fdd71171",
   "metadata": {},
   "outputs": [],
   "source": [
    "def mish(x):\n",
    "    return x * tf.math.tanh(tf.math.softplus(x))"
   ]
  },
  {
   "cell_type": "code",
   "execution_count": 3,
   "id": "9c87d6ed",
   "metadata": {},
   "outputs": [],
   "source": [
    "def get_angles(pos, i, d_model):\n",
    "    angle_rates = 1 / np.power(10000, (2 * (i//2)) / np.float32(d_model))\n",
    "    return pos * angle_rates\n",
    "\n",
    "def positional_encoding(position, d_model):\n",
    "    angle_rads = get_angles(np.arange(position)[:, np.newaxis],\n",
    "                            np.arange(d_model)[np.newaxis, :],\n",
    "                            d_model)\n",
    "    angle_rads[:, 0::2] = np.sin(angle_rads[:, 0::2])\n",
    "    angle_rads[:, 1::2] = np.cos(angle_rads[:, 1::2])\n",
    "    pos_encoding = angle_rads[np.newaxis, ...]\n",
    "    return tf.cast(pos_encoding, dtype=tf.float32)\n",
    "\n",
    "class PositionalEncodeInit(tf.keras.initializers.Initializer):\n",
    "    def __init__(self):\n",
    "        pass\n",
    "    def __call__(self, shape):\n",
    "        return positional_encoding(*shape)\n",
    "\n",
    "class Attention(tf.keras.layers.Layer):\n",
    "    def __init__(self,target_count,qk_dim,first=False):\n",
    "        super().__init__()\n",
    "        self.target_count = target_count\n",
    "        self.qk_dim = qk_dim\n",
    "        self.first = first\n",
    "        \n",
    "    def build(self,input_shape):\n",
    "        if self.first:\n",
    "#             self.input_positional_encode = PositionalEncodeInit()(input_shape[1:])\n",
    "            self.input_positional_encode = positional_encoding(*input_shape[1:])\n",
    "#         self.Q = PositionalEncodeInit()((self.target_count,self.qk_dim))\n",
    "        self.Q = positional_encoding(self.target_count,self.qk_dim)\n",
    "        self.K = tf.keras.layers.Dense(self.qk_dim)\n",
    "        self.V = tf.keras.layers.Dense(input_shape[-1])\n",
    "        self.ff = tf.keras.Sequential([\n",
    "            tf.keras.layers.Dense(input_shape[-1]//2, activation=mish),\n",
    "            tf.keras.layers.Dense(input_shape[-1])\n",
    "        ])\n",
    "        \n",
    "    def call(self,value,training):\n",
    "        if self.first:\n",
    "            value = value * tf.math.sqrt(tf.cast(tf.shape(value)[-1], tf.float32))\n",
    "            value = value + self.input_positional_encode\n",
    "        #value : (B,value_count,value_dim)\n",
    "        #K: (B,value_count,qk_dim)\n",
    "        V = self.V(value)\n",
    "        K = self.K(value)\n",
    "        #Q: (B,target_count,qk_dim)\n",
    "        QK = tf.matmul(self.Q,K,transpose_b=True)\n",
    "        QK = QK / tf.sqrt(tf.cast(self.qk_dim,tf.float32))\n",
    "        QK = tf.keras.activations.softmax(QK,axis=-1)\n",
    "        \n",
    "        #QK : (B,target_count,value_count)  #value: (B,value_count,value_dim)\n",
    "        output = tf.matmul(QK,V)\n",
    "        #output : (B,target_count,value_dim)\n",
    "        output = self.ff(output)\n",
    "        return output"
   ]
  },
  {
   "cell_type": "code",
   "execution_count": 4,
   "id": "427863d0",
   "metadata": {},
   "outputs": [],
   "source": [
    "class Conv2D(tf.keras.layers.Conv2D):\n",
    "    def __init__(self,f,k,a,b,**kwdarg):\n",
    "        super().__init__(\n",
    "            filters=f,\n",
    "            kernel_size=k,\n",
    "            activation=a,\n",
    "            use_bias=b,\n",
    "            strides=1,\n",
    "            padding='valid',\n",
    "            **kwdarg)\n",
    "    def call(self,inp,training):\n",
    "        x = super().call(inp)\n",
    "        return x"
   ]
  },
  {
   "cell_type": "code",
   "execution_count": 5,
   "id": "93a163a4",
   "metadata": {},
   "outputs": [],
   "source": [
    "class DepthwiseConv2D(tf.keras.layers.DepthwiseConv2D):\n",
    "    def __init__(self,m,k,a,b,**kwdarg):\n",
    "        super().__init__(\n",
    "            depth_multiplier=m,\n",
    "            kernel_size=k,\n",
    "            activation=a,\n",
    "            use_bias=b,\n",
    "            strides=1,\n",
    "            padding='valid',\n",
    "            **kwdarg)\n",
    "    def call(self,inp,training):\n",
    "        x = super().call(inp)\n",
    "        return x"
   ]
  },
  {
   "cell_type": "code",
   "execution_count": 6,
   "id": "8c942895",
   "metadata": {},
   "outputs": [],
   "source": [
    "class DepthControl(tf.keras.layers.Layer):\n",
    "    def __init__(self,r,a,b,groups=1):\n",
    "        super().__init__()\n",
    "        self.r = 2**r\n",
    "        self.a = a\n",
    "        self.b = b\n",
    "        self.groups = groups\n",
    "    def build(self,input_shape):\n",
    "        self.conv = Conv2D(\n",
    "            f=int(input_shape[-1]*self.r),\n",
    "            k=1,\n",
    "            a=self.a,\n",
    "            b=self.b,\n",
    "            groups=self.groups\n",
    "        )\n",
    "    def call(self,inp,training):\n",
    "        x = self.conv(inp,training=training)\n",
    "        return x"
   ]
  },
  {
   "cell_type": "code",
   "execution_count": 7,
   "id": "3dbafd27",
   "metadata": {},
   "outputs": [],
   "source": [
    "class SubBlock(tf.keras.layers.Layer):\n",
    "    def __init__(self,vision_layer,nins):\n",
    "        super().__init__()\n",
    "        self.vision_layer = vision_layer\n",
    "        self.main = tf.keras.Sequential([DepthControl(r=r,a=mish,b=True) for r in nins]+\n",
    "                                        [DepthControl(r=-r,a=mish,b=True) for r in nins[::-1]])\n",
    "        self.mix = DepthControl(r=-1,a=mish,b=False)\n",
    "    def call(self,inp,training):\n",
    "        x1 = self.vision_layer(inp,training=training)\n",
    "        x2 = self.main(x1,training=training)\n",
    "        x = tf.concat([x1,x2],axis=-1)\n",
    "        x = self.mix(x,training=training)\n",
    "        return x"
   ]
  },
  {
   "cell_type": "code",
   "execution_count": 8,
   "id": "45929981",
   "metadata": {},
   "outputs": [],
   "source": [
    "class GroupSubBlock(tf.keras.layers.Layer):\n",
    "    def __init__(self,vision_layer,groups,nins):\n",
    "        super().__init__()\n",
    "        self.vision_layer = vision_layer\n",
    "        self.main = tf.keras.Sequential([DepthControl(r=r,a=mish,b=True,groups=groups) for r in nins]+\n",
    "                                        [DepthControl(r=-r,a=mish,b=True,groups=groups) for r in nins[::-1]])\n",
    "    def call(self,inp,training):\n",
    "        x1 = self.vision_layer(inp,training=training)\n",
    "        x2 = self.main(x1,training=training)\n",
    "        x = x1 + x2\n",
    "        return x"
   ]
  },
  {
   "cell_type": "code",
   "execution_count": 9,
   "id": "9ee0f169",
   "metadata": {},
   "outputs": [],
   "source": [
    "class Contract(tf.keras.layers.Layer):\n",
    "    def __init__(self):\n",
    "        super().__init__()\n",
    "        self.downsample = tf.keras.layers.AveragePooling2D(pool_size=2, strides=2, padding='valid')\n",
    "        self.increase = DepthControl(r=1,a=None,b=False)\n",
    "    def call(self,inp,training):\n",
    "        x = self.downsample(inp,training=training)\n",
    "        x = self.increase(x,training=training)\n",
    "        return x"
   ]
  },
  {
   "cell_type": "code",
   "execution_count": 10,
   "id": "06a897ec",
   "metadata": {},
   "outputs": [],
   "source": [
    "class Model(tf.keras.Model):\n",
    "    def __init__(self):\n",
    "        super().__init__()\n",
    "        self.block1 = tf.keras.Sequential([ #B,40,240,1\n",
    "            SubBlock(DepthwiseConv2D(m=8,k=3,a=None,b=False),[1,1]),  #B.38,238,8\n",
    "            SubBlock(Conv2D(f=8,k=3,a=mish,b=True),[1,1]), #B.36,236,8\n",
    "            Contract()]) #B,18,118,16\n",
    "        self.block2 = tf.keras.Sequential([\n",
    "            SubBlock(Conv2D(f=16,k=3,a=mish,b=True),[1,0,0]), #B,16,116,16\n",
    "            Contract()]) #B,8,58,32\n",
    "        self.block3 = tf.keras.Sequential([\n",
    "            SubBlock(Conv2D(f=32,k=3,a=mish,b=True),[1,0,0]), #B,6,56,32\n",
    "            SubBlock(Conv2D(f=32,k=3,a=mish,b=True),[1,0,0]), #B,4,54,,32\n",
    "            Contract()]) #B,2,27,64\n",
    "        self.block4 = tf.keras.Sequential([\n",
    "            SubBlock(Conv2D(f=64,k=2,a=mish,b=True),[-1,0,0]), #B,1,26,64\n",
    "        ])\n",
    "        self.block5 = tf.keras.Sequential([\n",
    "            SubBlock(Conv2D(f=128,k=(1,2),a=mish,b=True),[0,0]), #B,1,25,128\n",
    "            SubBlock(Conv2D(f=256,k=(1,2),a=mish,b=True),[0,0]), #B,1,24,256\n",
    "#             tf.keras.layers.AveragePooling2D(pool_size=(1,2), strides=(1,2), padding='valid'),\n",
    "            tf.keras.layers.Lambda(lambda x: tf.squeeze(x,axis=[1])), #B,24,256\n",
    "#             Attention(22,64,True),\n",
    "#             Attention(20,64),\n",
    "#             Attention(18,64),\n",
    "#             Attention(16,64),\n",
    "#             Attention(14,64),\n",
    "#             Attention(12,64),\n",
    "            Attention(12,256,True),\n",
    "        ])\n",
    "        self.output_layer = tf.keras.Sequential([\n",
    "            tf.keras.layers.Dense(128,activation=mish,use_bias=True),\n",
    "            tf.keras.layers.Dense(64,activation=mish,use_bias=True),\n",
    "            tf.keras.layers.Dense(36,activation=None,use_bias=False)\n",
    "        ])\n",
    "        \n",
    "    def call(self,image,training):\n",
    "        x = self.block1(image,training=training)\n",
    "        x = self.block2(x,training=training)\n",
    "        x = self.block3(x,training=training)\n",
    "        x = self.block4(x,training=training)\n",
    "        x = self.block5(x,training=training)\n",
    "        x = self.output_layer(x,training=training)\n",
    "        return x\n",
    "    \n",
    "    def predict(self,image):\n",
    "        raw_predict = self(image,training=False)\n",
    "        predict = tf.argmax(raw_predict,axis=-1)\n",
    "        predict = predict.numpy()\n",
    "        predict = [utils.token2char(p) for p in predict]\n",
    "        return predict"
   ]
  },
  {
   "cell_type": "code",
   "execution_count": 11,
   "id": "c97c18c5",
   "metadata": {},
   "outputs": [],
   "source": [
    "model = Model()"
   ]
  },
  {
   "cell_type": "code",
   "execution_count": 12,
   "id": "507e7080",
   "metadata": {},
   "outputs": [],
   "source": [
    "import FLAGS\n",
    "\n",
    "FLAGS.DATA.TRAIN.TABLE_PATH = r'D:\\Competitions\\ComputerVision\\OCR\\ChinaSteel\\dataset\\train\\overturn\\cleaned_merge_table.csv'\n",
    "FLAGS.DATA.TRAIN.VALIDATION_SPLIT_RATIO = 0.05\n",
    "FLAGS.DATA.TRAIN.VALIDATION_SPLIT_RANDOM_STATE = 100\n",
    "FLAGS.DATA.TRAIN.IMAGE_PATH = r'D:\\Competitions\\ComputerVision\\OCR\\ChinaSteel\\dataset\\train\\overturn\\image'\n",
    "FLAGS.DATA.TRAIN.TRAIN_BATCH_SIZE = 4\n",
    "FLAGS.DATA.TRAIN.VAL_BATCH_SIZE = 8\n",
    "FLAGS.DATA.TEST.IMAGE_PATH = r'D:\\Competitions\\ComputerVision\\OCR\\ChinaSteel\\dataset\\test\\overturn\\sample'\n",
    "FLAGS.DATA.TEST.BATCH_SIZE = 8\n",
    "\n",
    "FLAGS.MODEL = model\n",
    "\n",
    "FLAGS.LOSS.LABEL_SMOOTHING = 0.01\n",
    "\n",
    "FLAGS.OPTIMIZER.TYPE = tf.keras.optimizers.Adam\n",
    "FLAGS.OPTIMIZER.MAX_LEARNING_RATE = 1e-3\n",
    "FLAGS.OPTIMIZER.SCHEDULE_GAMMA = -2\n",
    "\n",
    "FLAGS.EPOCHS.TOTAL = 300\n",
    "FLAGS.EPOCHS.WARMUP = 2\n",
    "\n",
    "FLAGS.LOGGING.PATH = 'logs'\n",
    "FLAGS.LOGGING.MODEL_NAME = '4-2'\n",
    "FLAGS.LOGGING.TRIAL_NUMBER = 5\n",
    "FLAGS.LOGGING.NOTE = 'use train.py reproduce for trial 4'\n",
    "FLAGS.LOGGING.SAMPLES_PER_LOG = 128\n",
    "FLAGS.LOGGING.TEST_IMAGE_COLUMNS = 5"
   ]
  },
  {
   "cell_type": "code",
   "execution_count": 13,
   "id": "15f27315",
   "metadata": {},
   "outputs": [
    {
     "ename": "KeyboardInterrupt",
     "evalue": "",
     "output_type": "error",
     "traceback": [
      "\u001b[1;31m---------------------------------------------------------------------------\u001b[0m",
      "\u001b[1;31mKeyboardInterrupt\u001b[0m                         Traceback (most recent call last)",
      "\u001b[1;32mD:\\Competitions\\ComputerVision\\OCR\\ChinaSteel\\code\\Recognition\\train.py\u001b[0m in \u001b[0;36m<module>\u001b[1;34m\u001b[0m\n\u001b[0;32m    128\u001b[0m             \u001b[0mmean_loss\u001b[0m \u001b[1;33m=\u001b[0m \u001b[0mtf\u001b[0m\u001b[1;33m.\u001b[0m\u001b[0mmath\u001b[0m\u001b[1;33m.\u001b[0m\u001b[0mreduce_mean\u001b[0m\u001b[1;33m(\u001b[0m\u001b[0mloss\u001b[0m\u001b[1;33m)\u001b[0m\u001b[1;33m\u001b[0m\u001b[1;33m\u001b[0m\u001b[0m\n\u001b[0;32m    129\u001b[0m         \u001b[0mgradients\u001b[0m \u001b[1;33m=\u001b[0m \u001b[0mtape\u001b[0m\u001b[1;33m.\u001b[0m\u001b[0mgradient\u001b[0m\u001b[1;33m(\u001b[0m\u001b[0mmean_loss\u001b[0m\u001b[1;33m,\u001b[0m \u001b[0mmodel\u001b[0m\u001b[1;33m.\u001b[0m\u001b[0mtrainable_variables\u001b[0m\u001b[1;33m)\u001b[0m\u001b[1;33m\u001b[0m\u001b[1;33m\u001b[0m\u001b[0m\n\u001b[1;32m--> 130\u001b[1;33m         \u001b[0moptimizer\u001b[0m\u001b[1;33m.\u001b[0m\u001b[0mapply_gradients\u001b[0m\u001b[1;33m(\u001b[0m\u001b[0mzip\u001b[0m\u001b[1;33m(\u001b[0m\u001b[0mgradients\u001b[0m\u001b[1;33m,\u001b[0m \u001b[0mmodel\u001b[0m\u001b[1;33m.\u001b[0m\u001b[0mtrainable_variables\u001b[0m\u001b[1;33m)\u001b[0m\u001b[1;33m)\u001b[0m\u001b[1;33m\u001b[0m\u001b[1;33m\u001b[0m\u001b[0m\n\u001b[0m\u001b[0;32m    131\u001b[0m         \u001b[0mcorrect_ratio\u001b[0m\u001b[1;33m,\u001b[0m \u001b[0mall_correct\u001b[0m \u001b[1;33m=\u001b[0m \u001b[0mAccuracy\u001b[0m\u001b[1;33m(\u001b[0m\u001b[0msequence\u001b[0m\u001b[1;33m,\u001b[0m\u001b[0mraw_predict\u001b[0m\u001b[1;33m)\u001b[0m\u001b[1;33m\u001b[0m\u001b[1;33m\u001b[0m\u001b[0m\n\u001b[0;32m    132\u001b[0m         \u001b[0mtrain_CE_metric\u001b[0m\u001b[1;33m.\u001b[0m\u001b[0mupdate_state\u001b[0m\u001b[1;33m(\u001b[0m\u001b[0mloss\u001b[0m\u001b[1;33m)\u001b[0m\u001b[1;33m\u001b[0m\u001b[1;33m\u001b[0m\u001b[0m\n",
      "\u001b[1;32m~\\anaconda3\\lib\\site-packages\\keras\\optimizer_v2\\optimizer_v2.py\u001b[0m in \u001b[0;36mapply_gradients\u001b[1;34m(self, grads_and_vars, name, experimental_aggregate_gradients)\u001b[0m\n\u001b[0;32m    657\u001b[0m \u001b[1;33m\u001b[0m\u001b[0m\n\u001b[0;32m    658\u001b[0m       \u001b[1;32mif\u001b[0m \u001b[0moptimizer_utils\u001b[0m\u001b[1;33m.\u001b[0m\u001b[0mstrategy_supports_no_merge_call\u001b[0m\u001b[1;33m(\u001b[0m\u001b[1;33m)\u001b[0m\u001b[1;33m:\u001b[0m\u001b[1;33m\u001b[0m\u001b[1;33m\u001b[0m\u001b[0m\n\u001b[1;32m--> 659\u001b[1;33m         return self._distributed_apply(strategy, grads_and_vars, name,\n\u001b[0m\u001b[0;32m    660\u001b[0m                                        apply_state)\n\u001b[0;32m    661\u001b[0m       \u001b[1;32melse\u001b[0m\u001b[1;33m:\u001b[0m\u001b[1;33m\u001b[0m\u001b[1;33m\u001b[0m\u001b[0m\n",
      "\u001b[1;32m~\\anaconda3\\lib\\site-packages\\keras\\optimizer_v2\\optimizer_v2.py\u001b[0m in \u001b[0;36m_distributed_apply\u001b[1;34m(self, distribution, grads_and_vars, name, apply_state)\u001b[0m\n\u001b[0;32m    704\u001b[0m               \u001b[1;34m\"update\"\u001b[0m \u001b[1;32mif\u001b[0m \u001b[0meagerly_outside_functions\u001b[0m \u001b[1;32melse\u001b[0m \u001b[1;34m\"update_\"\u001b[0m \u001b[1;33m+\u001b[0m\u001b[1;33m\u001b[0m\u001b[1;33m\u001b[0m\u001b[0m\n\u001b[0;32m    705\u001b[0m               var.op.name):\n\u001b[1;32m--> 706\u001b[1;33m             update_op = distribution.extended.update(\n\u001b[0m\u001b[0;32m    707\u001b[0m                 var, apply_grad_to_update_var, args=(grad,), group=False)\n\u001b[0;32m    708\u001b[0m             \u001b[1;32mif\u001b[0m \u001b[0mtf\u001b[0m\u001b[1;33m.\u001b[0m\u001b[0mdistribute\u001b[0m\u001b[1;33m.\u001b[0m\u001b[0min_cross_replica_context\u001b[0m\u001b[1;33m(\u001b[0m\u001b[1;33m)\u001b[0m\u001b[1;33m:\u001b[0m\u001b[1;33m\u001b[0m\u001b[1;33m\u001b[0m\u001b[0m\n",
      "\u001b[1;32m~\\anaconda3\\lib\\site-packages\\tensorflow\\python\\distribute\\distribute_lib.py\u001b[0m in \u001b[0;36mupdate\u001b[1;34m(self, var, fn, args, kwargs, group)\u001b[0m\n\u001b[0;32m   2590\u001b[0m           fn, autograph_ctx.control_status_ctx(), convert_by_default=False)\n\u001b[0;32m   2591\u001b[0m       \u001b[1;32mwith\u001b[0m \u001b[0mself\u001b[0m\u001b[1;33m.\u001b[0m\u001b[0m_container_strategy\u001b[0m\u001b[1;33m(\u001b[0m\u001b[1;33m)\u001b[0m\u001b[1;33m.\u001b[0m\u001b[0mscope\u001b[0m\u001b[1;33m(\u001b[0m\u001b[1;33m)\u001b[0m\u001b[1;33m:\u001b[0m\u001b[1;33m\u001b[0m\u001b[1;33m\u001b[0m\u001b[0m\n\u001b[1;32m-> 2592\u001b[1;33m         \u001b[1;32mreturn\u001b[0m \u001b[0mself\u001b[0m\u001b[1;33m.\u001b[0m\u001b[0m_update\u001b[0m\u001b[1;33m(\u001b[0m\u001b[0mvar\u001b[0m\u001b[1;33m,\u001b[0m \u001b[0mfn\u001b[0m\u001b[1;33m,\u001b[0m \u001b[0margs\u001b[0m\u001b[1;33m,\u001b[0m \u001b[0mkwargs\u001b[0m\u001b[1;33m,\u001b[0m \u001b[0mgroup\u001b[0m\u001b[1;33m)\u001b[0m\u001b[1;33m\u001b[0m\u001b[1;33m\u001b[0m\u001b[0m\n\u001b[0m\u001b[0;32m   2593\u001b[0m     \u001b[1;32melse\u001b[0m\u001b[1;33m:\u001b[0m\u001b[1;33m\u001b[0m\u001b[1;33m\u001b[0m\u001b[0m\n\u001b[0;32m   2594\u001b[0m       return self._replica_ctx_update(\n",
      "\u001b[1;32m~\\anaconda3\\lib\\site-packages\\tensorflow\\python\\distribute\\distribute_lib.py\u001b[0m in \u001b[0;36m_update\u001b[1;34m(self, var, fn, args, kwargs, group)\u001b[0m\n\u001b[0;32m   3644\u001b[0m     \u001b[1;31m# The implementations of _update() and _update_non_slot() are identical\u001b[0m\u001b[1;33m\u001b[0m\u001b[1;33m\u001b[0m\u001b[1;33m\u001b[0m\u001b[0m\n\u001b[0;32m   3645\u001b[0m     \u001b[1;31m# except _update() passes `var` as the first argument to `fn()`.\u001b[0m\u001b[1;33m\u001b[0m\u001b[1;33m\u001b[0m\u001b[1;33m\u001b[0m\u001b[0m\n\u001b[1;32m-> 3646\u001b[1;33m     \u001b[1;32mreturn\u001b[0m \u001b[0mself\u001b[0m\u001b[1;33m.\u001b[0m\u001b[0m_update_non_slot\u001b[0m\u001b[1;33m(\u001b[0m\u001b[0mvar\u001b[0m\u001b[1;33m,\u001b[0m \u001b[0mfn\u001b[0m\u001b[1;33m,\u001b[0m \u001b[1;33m(\u001b[0m\u001b[0mvar\u001b[0m\u001b[1;33m,\u001b[0m\u001b[1;33m)\u001b[0m \u001b[1;33m+\u001b[0m \u001b[0mtuple\u001b[0m\u001b[1;33m(\u001b[0m\u001b[0margs\u001b[0m\u001b[1;33m)\u001b[0m\u001b[1;33m,\u001b[0m \u001b[0mkwargs\u001b[0m\u001b[1;33m,\u001b[0m \u001b[0mgroup\u001b[0m\u001b[1;33m)\u001b[0m\u001b[1;33m\u001b[0m\u001b[1;33m\u001b[0m\u001b[0m\n\u001b[0m\u001b[0;32m   3647\u001b[0m \u001b[1;33m\u001b[0m\u001b[0m\n\u001b[0;32m   3648\u001b[0m   \u001b[1;32mdef\u001b[0m \u001b[0m_update_non_slot\u001b[0m\u001b[1;33m(\u001b[0m\u001b[0mself\u001b[0m\u001b[1;33m,\u001b[0m \u001b[0mcolocate_with\u001b[0m\u001b[1;33m,\u001b[0m \u001b[0mfn\u001b[0m\u001b[1;33m,\u001b[0m \u001b[0margs\u001b[0m\u001b[1;33m,\u001b[0m \u001b[0mkwargs\u001b[0m\u001b[1;33m,\u001b[0m \u001b[0mshould_group\u001b[0m\u001b[1;33m)\u001b[0m\u001b[1;33m:\u001b[0m\u001b[1;33m\u001b[0m\u001b[1;33m\u001b[0m\u001b[0m\n",
      "\u001b[1;32m~\\anaconda3\\lib\\site-packages\\tensorflow\\python\\distribute\\distribute_lib.py\u001b[0m in \u001b[0;36m_update_non_slot\u001b[1;34m(self, colocate_with, fn, args, kwargs, should_group)\u001b[0m\n\u001b[0;32m   3650\u001b[0m     \u001b[1;31m# once that value is used for something.\u001b[0m\u001b[1;33m\u001b[0m\u001b[1;33m\u001b[0m\u001b[1;33m\u001b[0m\u001b[0m\n\u001b[0;32m   3651\u001b[0m     \u001b[1;32mwith\u001b[0m \u001b[0mUpdateContext\u001b[0m\u001b[1;33m(\u001b[0m\u001b[0mcolocate_with\u001b[0m\u001b[1;33m)\u001b[0m\u001b[1;33m:\u001b[0m\u001b[1;33m\u001b[0m\u001b[1;33m\u001b[0m\u001b[0m\n\u001b[1;32m-> 3652\u001b[1;33m       \u001b[0mresult\u001b[0m \u001b[1;33m=\u001b[0m \u001b[0mfn\u001b[0m\u001b[1;33m(\u001b[0m\u001b[1;33m*\u001b[0m\u001b[0margs\u001b[0m\u001b[1;33m,\u001b[0m \u001b[1;33m**\u001b[0m\u001b[0mkwargs\u001b[0m\u001b[1;33m)\u001b[0m\u001b[1;33m\u001b[0m\u001b[1;33m\u001b[0m\u001b[0m\n\u001b[0m\u001b[0;32m   3653\u001b[0m       \u001b[1;32mif\u001b[0m \u001b[0mshould_group\u001b[0m\u001b[1;33m:\u001b[0m\u001b[1;33m\u001b[0m\u001b[1;33m\u001b[0m\u001b[0m\n\u001b[0;32m   3654\u001b[0m         \u001b[1;32mreturn\u001b[0m \u001b[0mresult\u001b[0m\u001b[1;33m\u001b[0m\u001b[1;33m\u001b[0m\u001b[0m\n",
      "\u001b[1;32m~\\anaconda3\\lib\\site-packages\\tensorflow\\python\\autograph\\impl\\api.py\u001b[0m in \u001b[0;36mwrapper\u001b[1;34m(*args, **kwargs)\u001b[0m\n\u001b[0;32m    595\u001b[0m   \u001b[1;32mdef\u001b[0m \u001b[0mwrapper\u001b[0m\u001b[1;33m(\u001b[0m\u001b[1;33m*\u001b[0m\u001b[0margs\u001b[0m\u001b[1;33m,\u001b[0m \u001b[1;33m**\u001b[0m\u001b[0mkwargs\u001b[0m\u001b[1;33m)\u001b[0m\u001b[1;33m:\u001b[0m\u001b[1;33m\u001b[0m\u001b[1;33m\u001b[0m\u001b[0m\n\u001b[0;32m    596\u001b[0m     \u001b[1;32mwith\u001b[0m \u001b[0mag_ctx\u001b[0m\u001b[1;33m.\u001b[0m\u001b[0mControlStatusCtx\u001b[0m\u001b[1;33m(\u001b[0m\u001b[0mstatus\u001b[0m\u001b[1;33m=\u001b[0m\u001b[0mag_ctx\u001b[0m\u001b[1;33m.\u001b[0m\u001b[0mStatus\u001b[0m\u001b[1;33m.\u001b[0m\u001b[0mUNSPECIFIED\u001b[0m\u001b[1;33m)\u001b[0m\u001b[1;33m:\u001b[0m\u001b[1;33m\u001b[0m\u001b[1;33m\u001b[0m\u001b[0m\n\u001b[1;32m--> 597\u001b[1;33m       \u001b[1;32mreturn\u001b[0m \u001b[0mfunc\u001b[0m\u001b[1;33m(\u001b[0m\u001b[1;33m*\u001b[0m\u001b[0margs\u001b[0m\u001b[1;33m,\u001b[0m \u001b[1;33m**\u001b[0m\u001b[0mkwargs\u001b[0m\u001b[1;33m)\u001b[0m\u001b[1;33m\u001b[0m\u001b[1;33m\u001b[0m\u001b[0m\n\u001b[0m\u001b[0;32m    598\u001b[0m \u001b[1;33m\u001b[0m\u001b[0m\n\u001b[0;32m    599\u001b[0m   \u001b[1;32mif\u001b[0m \u001b[0minspect\u001b[0m\u001b[1;33m.\u001b[0m\u001b[0misfunction\u001b[0m\u001b[1;33m(\u001b[0m\u001b[0mfunc\u001b[0m\u001b[1;33m)\u001b[0m \u001b[1;32mor\u001b[0m \u001b[0minspect\u001b[0m\u001b[1;33m.\u001b[0m\u001b[0mismethod\u001b[0m\u001b[1;33m(\u001b[0m\u001b[0mfunc\u001b[0m\u001b[1;33m)\u001b[0m\u001b[1;33m:\u001b[0m\u001b[1;33m\u001b[0m\u001b[1;33m\u001b[0m\u001b[0m\n",
      "\u001b[1;32m~\\anaconda3\\lib\\site-packages\\keras\\optimizer_v2\\optimizer_v2.py\u001b[0m in \u001b[0;36mapply_grad_to_update_var\u001b[1;34m(var, grad)\u001b[0m\n\u001b[0;32m    687\u001b[0m       \u001b[1;32mif\u001b[0m \u001b[1;34m\"apply_state\"\u001b[0m \u001b[1;32min\u001b[0m \u001b[0mself\u001b[0m\u001b[1;33m.\u001b[0m\u001b[0m_dense_apply_args\u001b[0m\u001b[1;33m:\u001b[0m\u001b[1;33m\u001b[0m\u001b[1;33m\u001b[0m\u001b[0m\n\u001b[0;32m    688\u001b[0m         \u001b[0mapply_kwargs\u001b[0m\u001b[1;33m[\u001b[0m\u001b[1;34m\"apply_state\"\u001b[0m\u001b[1;33m]\u001b[0m \u001b[1;33m=\u001b[0m \u001b[0mapply_state\u001b[0m\u001b[1;33m\u001b[0m\u001b[1;33m\u001b[0m\u001b[0m\n\u001b[1;32m--> 689\u001b[1;33m       \u001b[0mupdate_op\u001b[0m \u001b[1;33m=\u001b[0m \u001b[0mself\u001b[0m\u001b[1;33m.\u001b[0m\u001b[0m_resource_apply_dense\u001b[0m\u001b[1;33m(\u001b[0m\u001b[0mgrad\u001b[0m\u001b[1;33m,\u001b[0m \u001b[0mvar\u001b[0m\u001b[1;33m,\u001b[0m \u001b[1;33m**\u001b[0m\u001b[0mapply_kwargs\u001b[0m\u001b[1;33m)\u001b[0m\u001b[1;33m\u001b[0m\u001b[1;33m\u001b[0m\u001b[0m\n\u001b[0m\u001b[0;32m    690\u001b[0m       \u001b[1;32mif\u001b[0m \u001b[0mvar\u001b[0m\u001b[1;33m.\u001b[0m\u001b[0mconstraint\u001b[0m \u001b[1;32mis\u001b[0m \u001b[1;32mnot\u001b[0m \u001b[1;32mNone\u001b[0m\u001b[1;33m:\u001b[0m\u001b[1;33m\u001b[0m\u001b[1;33m\u001b[0m\u001b[0m\n\u001b[0;32m    691\u001b[0m         \u001b[1;32mwith\u001b[0m \u001b[0mtf\u001b[0m\u001b[1;33m.\u001b[0m\u001b[0mcontrol_dependencies\u001b[0m\u001b[1;33m(\u001b[0m\u001b[1;33m[\u001b[0m\u001b[0mupdate_op\u001b[0m\u001b[1;33m]\u001b[0m\u001b[1;33m)\u001b[0m\u001b[1;33m:\u001b[0m\u001b[1;33m\u001b[0m\u001b[1;33m\u001b[0m\u001b[0m\n",
      "\u001b[1;32m~\\anaconda3\\lib\\site-packages\\keras\\optimizer_v2\\adam.py\u001b[0m in \u001b[0;36m_resource_apply_dense\u001b[1;34m(self, grad, var, apply_state)\u001b[0m\n\u001b[0;32m    163\u001b[0m \u001b[1;33m\u001b[0m\u001b[0m\n\u001b[0;32m    164\u001b[0m     \u001b[1;32mif\u001b[0m \u001b[1;32mnot\u001b[0m \u001b[0mself\u001b[0m\u001b[1;33m.\u001b[0m\u001b[0mamsgrad\u001b[0m\u001b[1;33m:\u001b[0m\u001b[1;33m\u001b[0m\u001b[1;33m\u001b[0m\u001b[0m\n\u001b[1;32m--> 165\u001b[1;33m       return tf.raw_ops.ResourceApplyAdam(\n\u001b[0m\u001b[0;32m    166\u001b[0m           \u001b[0mvar\u001b[0m\u001b[1;33m=\u001b[0m\u001b[0mvar\u001b[0m\u001b[1;33m.\u001b[0m\u001b[0mhandle\u001b[0m\u001b[1;33m,\u001b[0m\u001b[1;33m\u001b[0m\u001b[1;33m\u001b[0m\u001b[0m\n\u001b[0;32m    167\u001b[0m           \u001b[0mm\u001b[0m\u001b[1;33m=\u001b[0m\u001b[0mm\u001b[0m\u001b[1;33m.\u001b[0m\u001b[0mhandle\u001b[0m\u001b[1;33m,\u001b[0m\u001b[1;33m\u001b[0m\u001b[1;33m\u001b[0m\u001b[0m\n",
      "\u001b[1;32m~\\anaconda3\\lib\\site-packages\\tensorflow\\python\\util\\tf_export.py\u001b[0m in \u001b[0;36mwrapper\u001b[1;34m(*args, **kwargs)\u001b[0m\n\u001b[0;32m    402\u001b[0m           \u001b[1;34m'Please pass these args as kwargs instead.'\u001b[0m\u001b[1;33m\u001b[0m\u001b[1;33m\u001b[0m\u001b[0m\n\u001b[0;32m    403\u001b[0m           .format(f=f.__name__, kwargs=f_argspec.args))\n\u001b[1;32m--> 404\u001b[1;33m     \u001b[1;32mreturn\u001b[0m \u001b[0mf\u001b[0m\u001b[1;33m(\u001b[0m\u001b[1;33m**\u001b[0m\u001b[0mkwargs\u001b[0m\u001b[1;33m)\u001b[0m\u001b[1;33m\u001b[0m\u001b[1;33m\u001b[0m\u001b[0m\n\u001b[0m\u001b[0;32m    405\u001b[0m \u001b[1;33m\u001b[0m\u001b[0m\n\u001b[0;32m    406\u001b[0m   \u001b[1;32mreturn\u001b[0m \u001b[0mtf_decorator\u001b[0m\u001b[1;33m.\u001b[0m\u001b[0mmake_decorator\u001b[0m\u001b[1;33m(\u001b[0m\u001b[0mf\u001b[0m\u001b[1;33m,\u001b[0m \u001b[0mwrapper\u001b[0m\u001b[1;33m,\u001b[0m \u001b[0mdecorator_argspec\u001b[0m\u001b[1;33m=\u001b[0m\u001b[0mf_argspec\u001b[0m\u001b[1;33m)\u001b[0m\u001b[1;33m\u001b[0m\u001b[1;33m\u001b[0m\u001b[0m\n",
      "\u001b[1;32m~\\anaconda3\\lib\\site-packages\\tensorflow\\python\\ops\\gen_training_ops.py\u001b[0m in \u001b[0;36mresource_apply_adam\u001b[1;34m(var, m, v, beta1_power, beta2_power, lr, beta1, beta2, epsilon, grad, use_locking, use_nesterov, name)\u001b[0m\n\u001b[0;32m   1418\u001b[0m   \u001b[1;32mif\u001b[0m \u001b[0mtld\u001b[0m\u001b[1;33m.\u001b[0m\u001b[0mis_eager\u001b[0m\u001b[1;33m:\u001b[0m\u001b[1;33m\u001b[0m\u001b[1;33m\u001b[0m\u001b[0m\n\u001b[0;32m   1419\u001b[0m     \u001b[1;32mtry\u001b[0m\u001b[1;33m:\u001b[0m\u001b[1;33m\u001b[0m\u001b[1;33m\u001b[0m\u001b[0m\n\u001b[1;32m-> 1420\u001b[1;33m       _result = pywrap_tfe.TFE_Py_FastPathExecute(\n\u001b[0m\u001b[0;32m   1421\u001b[0m         \u001b[0m_ctx\u001b[0m\u001b[1;33m,\u001b[0m \u001b[1;34m\"ResourceApplyAdam\"\u001b[0m\u001b[1;33m,\u001b[0m \u001b[0mname\u001b[0m\u001b[1;33m,\u001b[0m \u001b[0mvar\u001b[0m\u001b[1;33m,\u001b[0m \u001b[0mm\u001b[0m\u001b[1;33m,\u001b[0m \u001b[0mv\u001b[0m\u001b[1;33m,\u001b[0m \u001b[0mbeta1_power\u001b[0m\u001b[1;33m,\u001b[0m \u001b[0mbeta2_power\u001b[0m\u001b[1;33m,\u001b[0m\u001b[1;33m\u001b[0m\u001b[1;33m\u001b[0m\u001b[0m\n\u001b[0;32m   1422\u001b[0m         \u001b[0mlr\u001b[0m\u001b[1;33m,\u001b[0m \u001b[0mbeta1\u001b[0m\u001b[1;33m,\u001b[0m \u001b[0mbeta2\u001b[0m\u001b[1;33m,\u001b[0m \u001b[0mepsilon\u001b[0m\u001b[1;33m,\u001b[0m \u001b[0mgrad\u001b[0m\u001b[1;33m,\u001b[0m \u001b[1;34m\"use_locking\"\u001b[0m\u001b[1;33m,\u001b[0m \u001b[0muse_locking\u001b[0m\u001b[1;33m,\u001b[0m\u001b[1;33m\u001b[0m\u001b[1;33m\u001b[0m\u001b[0m\n",
      "\u001b[1;31mKeyboardInterrupt\u001b[0m: "
     ]
    }
   ],
   "source": [
    "%run train.py"
   ]
  }
 ],
 "metadata": {
  "kernelspec": {
   "display_name": "Python 3",
   "language": "python",
   "name": "python3"
  },
  "language_info": {
   "codemirror_mode": {
    "name": "ipython",
    "version": 3
   },
   "file_extension": ".py",
   "mimetype": "text/x-python",
   "name": "python",
   "nbconvert_exporter": "python",
   "pygments_lexer": "ipython3",
   "version": "3.8.3"
  },
  "toc": {
   "base_numbering": 1,
   "nav_menu": {},
   "number_sections": true,
   "sideBar": true,
   "skip_h1_title": false,
   "title_cell": "Table of Contents",
   "title_sidebar": "Contents",
   "toc_cell": false,
   "toc_position": {},
   "toc_section_display": true,
   "toc_window_display": false
  },
  "varInspector": {
   "cols": {
    "lenName": 16,
    "lenType": 16,
    "lenVar": 40
   },
   "kernels_config": {
    "python": {
     "delete_cmd_postfix": "",
     "delete_cmd_prefix": "del ",
     "library": "var_list.py",
     "varRefreshCmd": "print(var_dic_list())"
    },
    "r": {
     "delete_cmd_postfix": ") ",
     "delete_cmd_prefix": "rm(",
     "library": "var_list.r",
     "varRefreshCmd": "cat(var_dic_list()) "
    }
   },
   "types_to_exclude": [
    "module",
    "function",
    "builtin_function_or_method",
    "instance",
    "_Feature"
   ],
   "window_display": false
  }
 },
 "nbformat": 4,
 "nbformat_minor": 5
}
